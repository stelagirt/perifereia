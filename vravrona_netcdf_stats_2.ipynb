{
 "cells": [
  {
   "cell_type": "code",
   "execution_count": 2,
   "metadata": {},
   "outputs": [],
   "source": [
    "import math\n",
    "import numpy as np\n",
    "from datetime import datetime, timedelta, date\n",
    "import time\n",
    "import xarray as xr\n",
    "from matplotlib import pyplot as plt\n",
    "import pandas as pd\n",
    "import numpy as np"
   ]
  },
  {
   "cell_type": "code",
   "execution_count": 2,
   "metadata": {},
   "outputs": [],
   "source": [
    "def speedstats(dsspeed, percent=False):\n",
    "    bins=list(range(0,int(dsspeed[\"speed\"].max())+2))\n",
    "    sg = dsspeed.groupby_bins(\"speed\",bins)\n",
    "    speedcounts = sg.count(...)[\"speed\"]\n",
    "    speedlabelsdict={}\n",
    "    for k in sg.groups:\n",
    "        speedlabelsdict[k.left]=k\n",
    "    speedlabels=[]    \n",
    "    for k in sorted(speedlabelsdict):\n",
    "        speedlabels.append(\"%s\"%speedlabelsdict[k])\n",
    "    if percent:\n",
    "        alldscount = dsspeed[\"speed\"].count().item(0)\n",
    "        speedcounts = speedcounts/alldscount\n",
    "    return speedlabels, speedcounts"
   ]
  },
  {
   "cell_type": "code",
   "execution_count": 3,
   "metadata": {},
   "outputs": [],
   "source": [
    "def directionstats(dsdir, percent=False):\n",
    "    dirlabels = [\"N\",\"NE\", \"E\", \"SE\", \"S\", \"SW\", \"W\", \"NW\"]\n",
    "    dirgroup = dsdir.groupby(\"wind_dir_cat\")\n",
    "    dircounts = dirgroup.count(...)[\"wind_dir\"]\n",
    "    if percent:\n",
    "        alldscount = dsdir[\"speed\"].count().item(0)\n",
    "        dircounts = dircounts/alldscount\n",
    "    return dirlabels, dircounts"
   ]
  },
  {
   "cell_type": "code",
   "execution_count": 4,
   "metadata": {},
   "outputs": [],
   "source": [
    "def wind_direction_disc(azim):\n",
    "    wind_dir = np.ma.copy(azim)\n",
    "    # wind_dir\n",
    "    # wind_dir.shape, azim[1].size\n",
    "    # wind_dir\n",
    "    directiondict = {1: (337.5, 22.5), # N\n",
    "                     2: (22.5, 67.5), # NE\n",
    "                     3: (67.5, 112.5), # E\n",
    "                     4: (112.5, 157.5), # SE\n",
    "                     5: (157.5, 202.5), # S\n",
    "                     6: (202.5, 247.5), # SW\n",
    "                     7: (247.5, 292.5), # W\n",
    "                     8: (292.5, 337.5)}  # NW\n",
    "    for i in directiondict:\n",
    "        if directiondict[i][0] > directiondict[i][1]:\n",
    "            wind_dir[(~wind_dir.mask) & ((wind_dir > directiondict[i][0]) | (wind_dir <= directiondict[i][1]))] = i\n",
    "        else:\n",
    "            wind_dir[(~wind_dir.mask) & (wind_dir > directiondict[i][0]) & (wind_dir <= directiondict[i][1])] = i\n",
    "    return wind_dir"
   ]
  },
  {
   "cell_type": "code",
   "execution_count": 3,
   "metadata": {},
   "outputs": [
    {
     "ename": "ValueError",
     "evalue": "PyNIO or cfgrib is required for accessing GRIB files",
     "output_type": "error",
     "traceback": [
      "\u001b[0;31m---------------------------------------------------------------------------\u001b[0m",
      "\u001b[0;31mValueError\u001b[0m                                Traceback (most recent call last)",
      "\u001b[0;32m<ipython-input-3-28e4d5561f09>\u001b[0m in \u001b[0;36m<module>\u001b[0;34m\u001b[0m\n\u001b[0;32m----> 1\u001b[0;31m \u001b[0mds\u001b[0m \u001b[0;34m=\u001b[0m \u001b[0mxr\u001b[0m\u001b[0;34m.\u001b[0m\u001b[0mload_dataset\u001b[0m\u001b[0;34m(\u001b[0m\u001b[0;34m'/mnt/storageapplications/data/PERIFEREIA_Attikis/Fire/P2_Lavreotiki/Wind/Input/era5/p2_1979_1983.grib'\u001b[0m\u001b[0;34m)\u001b[0m\u001b[0;34m\u001b[0m\u001b[0;34m\u001b[0m\u001b[0m\n\u001b[0m",
      "\u001b[0;32m~/.local/lib/python3.6/site-packages/xarray/backends/api.py\u001b[0m in \u001b[0;36mload_dataset\u001b[0;34m(filename_or_obj, **kwargs)\u001b[0m\n\u001b[1;32m    258\u001b[0m         \u001b[0;32mraise\u001b[0m \u001b[0mTypeError\u001b[0m\u001b[0;34m(\u001b[0m\u001b[0;34m\"cache has no effect in this context\"\u001b[0m\u001b[0;34m)\u001b[0m\u001b[0;34m\u001b[0m\u001b[0;34m\u001b[0m\u001b[0m\n\u001b[1;32m    259\u001b[0m \u001b[0;34m\u001b[0m\u001b[0m\n\u001b[0;32m--> 260\u001b[0;31m     \u001b[0;32mwith\u001b[0m \u001b[0mopen_dataset\u001b[0m\u001b[0;34m(\u001b[0m\u001b[0mfilename_or_obj\u001b[0m\u001b[0;34m,\u001b[0m \u001b[0;34m**\u001b[0m\u001b[0mkwargs\u001b[0m\u001b[0;34m)\u001b[0m \u001b[0;32mas\u001b[0m \u001b[0mds\u001b[0m\u001b[0;34m:\u001b[0m\u001b[0;34m\u001b[0m\u001b[0;34m\u001b[0m\u001b[0m\n\u001b[0m\u001b[1;32m    261\u001b[0m         \u001b[0;32mreturn\u001b[0m \u001b[0mds\u001b[0m\u001b[0;34m.\u001b[0m\u001b[0mload\u001b[0m\u001b[0;34m(\u001b[0m\u001b[0;34m)\u001b[0m\u001b[0;34m\u001b[0m\u001b[0;34m\u001b[0m\u001b[0m\n\u001b[1;32m    262\u001b[0m \u001b[0;34m\u001b[0m\u001b[0m\n",
      "\u001b[0;32m~/.local/lib/python3.6/site-packages/xarray/backends/api.py\u001b[0m in \u001b[0;36mopen_dataset\u001b[0;34m(filename_or_obj, group, decode_cf, mask_and_scale, decode_times, autoclose, concat_characters, decode_coords, engine, chunks, lock, cache, drop_variables, backend_kwargs, use_cftime)\u001b[0m\n\u001b[1;32m    497\u001b[0m \u001b[0;34m\u001b[0m\u001b[0m\n\u001b[1;32m    498\u001b[0m         \u001b[0;32mif\u001b[0m \u001b[0mengine\u001b[0m \u001b[0;32mis\u001b[0m \u001b[0;32mNone\u001b[0m\u001b[0;34m:\u001b[0m\u001b[0;34m\u001b[0m\u001b[0;34m\u001b[0m\u001b[0m\n\u001b[0;32m--> 499\u001b[0;31m             \u001b[0mengine\u001b[0m \u001b[0;34m=\u001b[0m \u001b[0m_get_default_engine\u001b[0m\u001b[0;34m(\u001b[0m\u001b[0mfilename_or_obj\u001b[0m\u001b[0;34m,\u001b[0m \u001b[0mallow_remote\u001b[0m\u001b[0;34m=\u001b[0m\u001b[0;32mTrue\u001b[0m\u001b[0;34m)\u001b[0m\u001b[0;34m\u001b[0m\u001b[0;34m\u001b[0m\u001b[0m\n\u001b[0m\u001b[1;32m    500\u001b[0m         \u001b[0;32mif\u001b[0m \u001b[0mengine\u001b[0m \u001b[0;34m==\u001b[0m \u001b[0;34m\"netcdf4\"\u001b[0m\u001b[0;34m:\u001b[0m\u001b[0;34m\u001b[0m\u001b[0;34m\u001b[0m\u001b[0m\n\u001b[1;32m    501\u001b[0m             store = backends.NetCDF4DataStore.open(\n",
      "\u001b[0;32m~/.local/lib/python3.6/site-packages/xarray/backends/api.py\u001b[0m in \u001b[0;36m_get_default_engine\u001b[0;34m(path, allow_remote)\u001b[0m\n\u001b[1;32m    147\u001b[0m         \u001b[0mengine\u001b[0m \u001b[0;34m=\u001b[0m \u001b[0m_get_default_engine_remote_uri\u001b[0m\u001b[0;34m(\u001b[0m\u001b[0;34m)\u001b[0m\u001b[0;34m\u001b[0m\u001b[0;34m\u001b[0m\u001b[0m\n\u001b[1;32m    148\u001b[0m     \u001b[0;32melif\u001b[0m \u001b[0mis_grib_path\u001b[0m\u001b[0;34m(\u001b[0m\u001b[0mpath\u001b[0m\u001b[0;34m)\u001b[0m\u001b[0;34m:\u001b[0m\u001b[0;34m\u001b[0m\u001b[0;34m\u001b[0m\u001b[0m\n\u001b[0;32m--> 149\u001b[0;31m         \u001b[0mengine\u001b[0m \u001b[0;34m=\u001b[0m \u001b[0m_get_default_engine_grib\u001b[0m\u001b[0;34m(\u001b[0m\u001b[0;34m)\u001b[0m\u001b[0;34m\u001b[0m\u001b[0;34m\u001b[0m\u001b[0m\n\u001b[0m\u001b[1;32m    150\u001b[0m     \u001b[0;32melif\u001b[0m \u001b[0mpath\u001b[0m\u001b[0;34m.\u001b[0m\u001b[0mendswith\u001b[0m\u001b[0;34m(\u001b[0m\u001b[0;34m\".gz\"\u001b[0m\u001b[0;34m)\u001b[0m\u001b[0;34m:\u001b[0m\u001b[0;34m\u001b[0m\u001b[0;34m\u001b[0m\u001b[0m\n\u001b[1;32m    151\u001b[0m         \u001b[0mengine\u001b[0m \u001b[0;34m=\u001b[0m \u001b[0m_get_default_engine_gz\u001b[0m\u001b[0;34m(\u001b[0m\u001b[0;34m)\u001b[0m\u001b[0;34m\u001b[0m\u001b[0;34m\u001b[0m\u001b[0m\n",
      "\u001b[0;32m~/.local/lib/python3.6/site-packages/xarray/backends/api.py\u001b[0m in \u001b[0;36m_get_default_engine_grib\u001b[0;34m()\u001b[0m\n\u001b[1;32m     79\u001b[0m         \u001b[0;32mraise\u001b[0m \u001b[0mValueError\u001b[0m\u001b[0;34m(\u001b[0m\u001b[0;34m\" or\\n\"\u001b[0m\u001b[0;34m.\u001b[0m\u001b[0mjoin\u001b[0m\u001b[0;34m(\u001b[0m\u001b[0mmsgs\u001b[0m\u001b[0;34m)\u001b[0m\u001b[0;34m)\u001b[0m\u001b[0;34m\u001b[0m\u001b[0;34m\u001b[0m\u001b[0m\n\u001b[1;32m     80\u001b[0m     \u001b[0;32melse\u001b[0m\u001b[0;34m:\u001b[0m\u001b[0;34m\u001b[0m\u001b[0;34m\u001b[0m\u001b[0m\n\u001b[0;32m---> 81\u001b[0;31m         \u001b[0;32mraise\u001b[0m \u001b[0mValueError\u001b[0m\u001b[0;34m(\u001b[0m\u001b[0;34m\"PyNIO or cfgrib is required for accessing \"\u001b[0m \u001b[0;34m\"GRIB files\"\u001b[0m\u001b[0;34m)\u001b[0m\u001b[0;34m\u001b[0m\u001b[0;34m\u001b[0m\u001b[0m\n\u001b[0m\u001b[1;32m     82\u001b[0m \u001b[0;34m\u001b[0m\u001b[0m\n\u001b[1;32m     83\u001b[0m \u001b[0;34m\u001b[0m\u001b[0m\n",
      "\u001b[0;31mValueError\u001b[0m: PyNIO or cfgrib is required for accessing GRIB files"
     ]
    }
   ],
   "source": [
    "ds = xr.load_dataset('/mnt/storageapplications/data/PERIFEREIA_Attikis/Fire/P2_Lavreotiki/Wind/Input/era5/p2_1979_1983.grib')"
   ]
  },
  {
   "cell_type": "code",
   "execution_count": 5,
   "metadata": {},
   "outputs": [
    {
     "name": "stderr",
     "output_type": "stream",
     "text": [
      "/home/sg/.local/lib/python3.6/site-packages/ipykernel_launcher.py:1: FutureWarning: In xarray version 0.15 the default behaviour of `open_mfdataset`\n",
      "will change. To retain the existing behavior, pass\n",
      "combine='nested'. To use future default behavior, pass\n",
      "combine='by_coords'. See\n",
      "http://xarray.pydata.org/en/stable/combining.html#combining-multi\n",
      "\n",
      "  \"\"\"Entry point for launching an IPython kernel.\n",
      "/home/sg/.local/lib/python3.6/site-packages/xarray/backends/api.py:941: FutureWarning: The datasets supplied have global dimension coordinates. You may want\n",
      "to use the new `combine_by_coords` function (or the\n",
      "`combine='by_coords'` option to `open_mfdataset`) to order the datasets\n",
      "before concatenation. Alternatively, to continue concatenating based\n",
      "on the order the datasets are supplied in future, please use the new\n",
      "`combine_nested` function (or the `combine='nested'` option to\n",
      "open_mfdataset).\n",
      "  from_openmfds=True,\n"
     ]
    }
   ],
   "source": [
    "ds = xr.open_mfdataset(\"/home/sg/Projects/perifereia/jupyter_notebooks/reera5_20072011/*nc\")"
   ]
  },
  {
   "cell_type": "code",
   "execution_count": 27,
   "metadata": {},
   "outputs": [
    {
     "data": {
      "text/html": [
       "<pre>&lt;xarray.Dataset&gt;\n",
       "Dimensions:       (expver: 2, latitude: 3, longitude: 3, time: 101023)\n",
       "Coordinates:\n",
       "  * longitude     (longitude) float32 23.42 23.67 23.92\n",
       "  * latitude      (latitude) float32 37.92 37.67 37.42\n",
       "  * expver        (expver) int32 1 5\n",
       "  * time          (time) datetime64[ns] 2002-04-01 ... 2021-08-22T06:00:00\n",
       "Data variables:\n",
       "    u10           (time, latitude, longitude, expver) float32 dask.array&lt;chunksize=(25680, 3, 3, 2), meta=np.ndarray&gt;\n",
       "    v10           (time, latitude, longitude, expver) float32 dask.array&lt;chunksize=(25680, 3, 3, 2), meta=np.ndarray&gt;\n",
       "    fg10          (time, latitude, longitude, expver) float32 dask.array&lt;chunksize=(25680, 3, 3, 2), meta=np.ndarray&gt;\n",
       "    i10fg         (time, latitude, longitude, expver) float32 dask.array&lt;chunksize=(25680, 3, 3, 2), meta=np.ndarray&gt;\n",
       "    speed         (time, latitude, longitude, expver) float32 dask.array&lt;chunksize=(25680, 3, 3, 2), meta=np.ndarray&gt;\n",
       "    wind_dir      (time, latitude, longitude, expver) float32 dask.array&lt;chunksize=(25680, 3, 3, 2), meta=np.ndarray&gt;\n",
       "    wind_dir_cat  (time, latitude, longitude, expver) float32 1.0 1.0 ... nan\n",
       "Attributes:\n",
       "    Conventions:  CF-1.6\n",
       "    history:      2021-08-30 16:25:45 GMT by grib_to_netcdf-2.20.0: /opt/ecmw...</pre>"
      ],
      "text/plain": [
       "<xarray.Dataset>\n",
       "Dimensions:       (expver: 2, latitude: 3, longitude: 3, time: 101023)\n",
       "Coordinates:\n",
       "  * longitude     (longitude) float32 23.42 23.67 23.92\n",
       "  * latitude      (latitude) float32 37.92 37.67 37.42\n",
       "  * expver        (expver) int32 1 5\n",
       "  * time          (time) datetime64[ns] 2002-04-01 ... 2021-08-22T06:00:00\n",
       "Data variables:\n",
       "    u10           (time, latitude, longitude, expver) float32 dask.array<chunksize=(25680, 3, 3, 2), meta=np.ndarray>\n",
       "    v10           (time, latitude, longitude, expver) float32 dask.array<chunksize=(25680, 3, 3, 2), meta=np.ndarray>\n",
       "    fg10          (time, latitude, longitude, expver) float32 dask.array<chunksize=(25680, 3, 3, 2), meta=np.ndarray>\n",
       "    i10fg         (time, latitude, longitude, expver) float32 dask.array<chunksize=(25680, 3, 3, 2), meta=np.ndarray>\n",
       "    speed         (time, latitude, longitude, expver) float32 dask.array<chunksize=(25680, 3, 3, 2), meta=np.ndarray>\n",
       "    wind_dir      (time, latitude, longitude, expver) float32 dask.array<chunksize=(25680, 3, 3, 2), meta=np.ndarray>\n",
       "    wind_dir_cat  (time, latitude, longitude, expver) float32 1.0 1.0 ... nan\n",
       "Attributes:\n",
       "    Conventions:  CF-1.6\n",
       "    history:      2021-08-30 16:25:45 GMT by grib_to_netcdf-2.20.0: /opt/ecmw..."
      ]
     },
     "execution_count": 27,
     "metadata": {},
     "output_type": "execute_result"
    }
   ],
   "source": [
    "ds"
   ]
  },
  {
   "cell_type": "code",
   "execution_count": 6,
   "metadata": {},
   "outputs": [
    {
     "name": "stderr",
     "output_type": "stream",
     "text": [
      "/home/sg/.local/lib/python3.6/site-packages/ipykernel_launcher.py:16: RuntimeWarning: invalid value encountered in greater\n",
      "  app.launch_new_instance()\n",
      "/home/sg/.local/lib/python3.6/site-packages/ipykernel_launcher.py:16: RuntimeWarning: invalid value encountered in less_equal\n",
      "  app.launch_new_instance()\n",
      "/home/sg/.local/lib/python3.6/site-packages/ipykernel_launcher.py:18: RuntimeWarning: invalid value encountered in greater\n",
      "/home/sg/.local/lib/python3.6/site-packages/ipykernel_launcher.py:18: RuntimeWarning: invalid value encountered in less_equal\n"
     ]
    }
   ],
   "source": [
    "ds['speed'] = np.sqrt(ds.u10**2+ds.v10**2)\n",
    "ds['wind_dir'] = 180 + (180 / math.pi) * np.arctan2(ds.u10, ds.v10)\n",
    "ds['wind_dir_cat'] = xr.apply_ufunc(wind_direction_disc, ds['wind_dir'],dask = 'allowed')"
   ]
  },
  {
   "cell_type": "code",
   "execution_count": 7,
   "metadata": {},
   "outputs": [],
   "source": [
    "dscell = ds.sel(latitude=slice(37.95,37.85), longitude=slice(23.85, 23.95))"
   ]
  },
  {
   "cell_type": "code",
   "execution_count": 8,
   "metadata": {},
   "outputs": [
    {
     "data": {
      "text/plain": [
       "<BarContainer object of 12 artists>"
      ]
     },
     "execution_count": 8,
     "metadata": {},
     "output_type": "execute_result"
    },
    {
     "data": {
      "image/png": "[encoded data removed]",
      "text/plain": [
       "<Figure size 432x288 with 1 Axes>"
      ]
     },
     "metadata": {
      "needs_background": "light"
     },
     "output_type": "display_data"
    }
   ],
   "source": [
    "lab, speeds = speedstats(dscell)\n",
    "plt.xticks(rotation=90)\n",
    "plt.bar(lab,speeds)"
   ]
  },
  {
   "cell_type": "code",
   "execution_count": 15,
   "metadata": {},
   "outputs": [
    {
     "data": {
      "text/plain": [
       "<BarContainer object of 8 artists>"
      ]
     },
     "execution_count": 15,
     "metadata": {},
     "output_type": "execute_result"
    },
    {
     "data": {
      "image/png": "[encoded data removed]",
      "text/plain": [
       "<Figure size 432x288 with 1 Axes>"
      ]
     },
     "metadata": {
      "needs_background": "light"
     },
     "output_type": "display_data"
    }
   ],
   "source": [
    "directions,dircounts = directionstats(dscell, percent=False)\n",
    "plt.bar(directions,dircounts)"
   ]
  },
  {
   "cell_type": "code",
   "execution_count": 16,
   "metadata": {},
   "outputs": [],
   "source": [
    "start=\"2010-01-01\"\n",
    "end=\"2020-12-31\"\n",
    "dstimerange=dscell.sel(time=slice(start, end))"
   ]
  },
  {
   "cell_type": "code",
   "execution_count": 17,
   "metadata": {},
   "outputs": [
    {
     "data": {
      "text/plain": [
       "<matplotlib.axes._subplots.AxesSubplot at 0x7fe0cc857400>"
      ]
     },
     "execution_count": 17,
     "metadata": {},
     "output_type": "execute_result"
    },
    {
     "data": {
      "image/png": "[encoded data removed]",
      "text/plain": [
       "<Figure size 864x576 with 1 Axes>"
      ]
     },
     "metadata": {
      "needs_background": "light"
     },
     "output_type": "display_data"
    }
   ],
   "source": [
    "lab1, speeds1 = speedstats(dscell, percent=False)\n",
    "lab2, speeds2 = speedstats(dstimerange, percent=False)\n",
    "speeds2 = np.append(speeds2, np.zeros(len(speeds1)-len(speeds2), dtype=np.int8))\n",
    "dfplt=pd.DataFrame({\"speed range (m/s)\":lab1, \"frequency % (1990-2020)\":speeds1, \"frequency %% %s:%s\"%(start,end):speeds2})\n",
    "dfplt.plot.bar(x='speed range (m/s)',  figsize=(12,8), logy=False)"
   ]
  },
  {
   "cell_type": "code",
   "execution_count": 18,
   "metadata": {},
   "outputs": [
    {
     "data": {
      "text/plain": [
       "<matplotlib.axes._subplots.AxesSubplot at 0x7fe0cc31e668>"
      ]
     },
     "execution_count": 18,
     "metadata": {},
     "output_type": "execute_result"
    },
    {
     "data": {
      "image/png": "[encoded data removed]",
      "text/plain": [
       "<Figure size 864x576 with 1 Axes>"
      ]
     },
     "metadata": {
      "needs_background": "light"
     },
     "output_type": "display_data"
    }
   ],
   "source": [
    "lab1, dirs1 = directionstats(dscell, percent=False)\n",
    "lab2, dirs2 = directionstats(dstimerange, percent=False)\n",
    "dfplt=pd.DataFrame({\"Wind Directions\":lab1, \"frequency % (1990-2020)\":dirs1, \"frequency %% %s:%s\"%(start,end):dirs2, })\n",
    "dfplt.plot.bar(x=\"Wind Directions\", figsize=(12,8))"
   ]
  },
  {
   "cell_type": "code",
   "execution_count": 19,
   "metadata": {},
   "outputs": [],
   "source": [
    "dirlab=[\"N\",\"NE\", \"E\", \"SE\", \"S\", \"SW\", \"W\", \"NW\"]\n",
    "allspeedlabels, allspeeds = speedstats(dscell, percent=False)\n",
    "plotdata=[]\n",
    "for i in range(1,len(dirlab)+1):\n",
    "    onedirset=dscell.where(dscell.wind_dir_cat==i)\n",
    "    l, dirspeeds = speedstats(onedirset, percent=False)\n",
    "    dirspeeds = np.append(dirspeeds, np.zeros(len(allspeeds)-len(dirspeeds), dtype=np.int8))\n",
    "    plotdata.append(dirspeeds)"
   ]
  },
  {
   "cell_type": "code",
   "execution_count": 20,
   "metadata": {},
   "outputs": [
    {
     "data": {
      "text/plain": [
       "<matplotlib.axes._subplots.AxesSubplot at 0x7fe0cc3707f0>"
      ]
     },
     "execution_count": 20,
     "metadata": {},
     "output_type": "execute_result"
    },
    {
     "data": {
      "image/png": "[encoded data removed]",
      "text/plain": [
       "<Figure size 1080x576 with 1 Axes>"
      ]
     },
     "metadata": {
      "needs_background": "light"
     },
     "output_type": "display_data"
    }
   ],
   "source": [
    "pddict={\"speed range (m/s)\":allspeedlabels, \"frequency % all\":allspeeds}\n",
    "for i in range(0,len(dirlab)):\n",
    "    pddict[\"frequency %s\"%dirlab[i]]=plotdata[i]   \n",
    "dfplt=pd.DataFrame(pddict)\n",
    "dfplt.plot.bar(x='speed range (m/s)',  figsize=(15,8), logy=True)"
   ]
  },
  {
   "cell_type": "code",
   "execution_count": 24,
   "metadata": {},
   "outputs": [
    {
     "data": {
      "text/html": [
       "<div>\n",
       "<style scoped>\n",
       "    .dataframe tbody tr th:only-of-type {\n",
       "        vertical-align: middle;\n",
       "    }\n",
       "\n",
       "    .dataframe tbody tr th {\n",
       "        vertical-align: top;\n",
       "    }\n",
       "\n",
       "    .dataframe thead th {\n",
       "        text-align: right;\n",
       "    }\n",
       "</style>\n",
       "<table border=\"1\" class=\"dataframe\">\n",
       "  <thead>\n",
       "    <tr style=\"text-align: right;\">\n",
       "      <th></th>\n",
       "      <th>speed range (m/s)</th>\n",
       "      <th>frequency % all</th>\n",
       "      <th>frequency N</th>\n",
       "      <th>frequency NE</th>\n",
       "      <th>frequency E</th>\n",
       "      <th>frequency SE</th>\n",
       "      <th>frequency S</th>\n",
       "      <th>frequency SW</th>\n",
       "      <th>frequency W</th>\n",
       "      <th>frequency NW</th>\n",
       "    </tr>\n",
       "  </thead>\n",
       "  <tbody>\n",
       "    <tr>\n",
       "      <th>0</th>\n",
       "      <td>(0.0, 1.0]</td>\n",
       "      <td>17174</td>\n",
       "      <td>2520</td>\n",
       "      <td>1973</td>\n",
       "      <td>1640</td>\n",
       "      <td>1913</td>\n",
       "      <td>2192</td>\n",
       "      <td>2202</td>\n",
       "      <td>2313</td>\n",
       "      <td>2421</td>\n",
       "    </tr>\n",
       "    <tr>\n",
       "      <th>1</th>\n",
       "      <td>(1.0, 2.0]</td>\n",
       "      <td>46213</td>\n",
       "      <td>10931</td>\n",
       "      <td>4619</td>\n",
       "      <td>2620</td>\n",
       "      <td>4210</td>\n",
       "      <td>7249</td>\n",
       "      <td>4292</td>\n",
       "      <td>4161</td>\n",
       "      <td>8131</td>\n",
       "    </tr>\n",
       "    <tr>\n",
       "      <th>2</th>\n",
       "      <td>(2.0, 3.0]</td>\n",
       "      <td>38443</td>\n",
       "      <td>13570</td>\n",
       "      <td>3661</td>\n",
       "      <td>965</td>\n",
       "      <td>2087</td>\n",
       "      <td>6436</td>\n",
       "      <td>2703</td>\n",
       "      <td>3080</td>\n",
       "      <td>5941</td>\n",
       "    </tr>\n",
       "    <tr>\n",
       "      <th>3</th>\n",
       "      <td>(3.0, 4.0]</td>\n",
       "      <td>28835</td>\n",
       "      <td>13754</td>\n",
       "      <td>2961</td>\n",
       "      <td>255</td>\n",
       "      <td>948</td>\n",
       "      <td>4856</td>\n",
       "      <td>2285</td>\n",
       "      <td>1762</td>\n",
       "      <td>2014</td>\n",
       "    </tr>\n",
       "    <tr>\n",
       "      <th>4</th>\n",
       "      <td>(4.0, 5.0]</td>\n",
       "      <td>19958</td>\n",
       "      <td>11973</td>\n",
       "      <td>2299</td>\n",
       "      <td>63</td>\n",
       "      <td>202</td>\n",
       "      <td>2079</td>\n",
       "      <td>1809</td>\n",
       "      <td>1146</td>\n",
       "      <td>387</td>\n",
       "    </tr>\n",
       "    <tr>\n",
       "      <th>5</th>\n",
       "      <td>(5.0, 6.0]</td>\n",
       "      <td>12709</td>\n",
       "      <td>9014</td>\n",
       "      <td>1405</td>\n",
       "      <td>17</td>\n",
       "      <td>54</td>\n",
       "      <td>728</td>\n",
       "      <td>661</td>\n",
       "      <td>680</td>\n",
       "      <td>150</td>\n",
       "    </tr>\n",
       "    <tr>\n",
       "      <th>6</th>\n",
       "      <td>(6.0, 7.0]</td>\n",
       "      <td>8259</td>\n",
       "      <td>6764</td>\n",
       "      <td>756</td>\n",
       "      <td>4</td>\n",
       "      <td>10</td>\n",
       "      <td>317</td>\n",
       "      <td>198</td>\n",
       "      <td>151</td>\n",
       "      <td>59</td>\n",
       "    </tr>\n",
       "    <tr>\n",
       "      <th>7</th>\n",
       "      <td>(7.0, 8.0]</td>\n",
       "      <td>4601</td>\n",
       "      <td>3968</td>\n",
       "      <td>341</td>\n",
       "      <td>0</td>\n",
       "      <td>6</td>\n",
       "      <td>128</td>\n",
       "      <td>102</td>\n",
       "      <td>34</td>\n",
       "      <td>22</td>\n",
       "    </tr>\n",
       "    <tr>\n",
       "      <th>8</th>\n",
       "      <td>(8.0, 9.0]</td>\n",
       "      <td>1568</td>\n",
       "      <td>1336</td>\n",
       "      <td>128</td>\n",
       "      <td>0</td>\n",
       "      <td>0</td>\n",
       "      <td>58</td>\n",
       "      <td>30</td>\n",
       "      <td>12</td>\n",
       "      <td>4</td>\n",
       "    </tr>\n",
       "    <tr>\n",
       "      <th>9</th>\n",
       "      <td>(9.0, 10.0]</td>\n",
       "      <td>249</td>\n",
       "      <td>206</td>\n",
       "      <td>13</td>\n",
       "      <td>0</td>\n",
       "      <td>0</td>\n",
       "      <td>12</td>\n",
       "      <td>14</td>\n",
       "      <td>4</td>\n",
       "      <td>0</td>\n",
       "    </tr>\n",
       "    <tr>\n",
       "      <th>10</th>\n",
       "      <td>(10.0, 11.0]</td>\n",
       "      <td>42</td>\n",
       "      <td>32</td>\n",
       "      <td>4</td>\n",
       "      <td>0</td>\n",
       "      <td>0</td>\n",
       "      <td>6</td>\n",
       "      <td>0</td>\n",
       "      <td>0</td>\n",
       "      <td>0</td>\n",
       "    </tr>\n",
       "    <tr>\n",
       "      <th>11</th>\n",
       "      <td>(11.0, 12.0]</td>\n",
       "      <td>3</td>\n",
       "      <td>0</td>\n",
       "      <td>3</td>\n",
       "      <td>0</td>\n",
       "      <td>0</td>\n",
       "      <td>0</td>\n",
       "      <td>0</td>\n",
       "      <td>0</td>\n",
       "      <td>0</td>\n",
       "    </tr>\n",
       "  </tbody>\n",
       "</table>\n",
       "</div>"
      ],
      "text/plain": [
       "   speed range (m/s)  frequency % all  frequency N  frequency NE  frequency E  \\\n",
       "0         (0.0, 1.0]            17174         2520          1973         1640   \n",
       "1         (1.0, 2.0]            46213        10931          4619         2620   \n",
       "2         (2.0, 3.0]            38443        13570          3661          965   \n",
       "3         (3.0, 4.0]            28835        13754          2961          255   \n",
       "4         (4.0, 5.0]            19958        11973          2299           63   \n",
       "5         (5.0, 6.0]            12709         9014          1405           17   \n",
       "6         (6.0, 7.0]             8259         6764           756            4   \n",
       "7         (7.0, 8.0]             4601         3968           341            0   \n",
       "8         (8.0, 9.0]             1568         1336           128            0   \n",
       "9        (9.0, 10.0]              249          206            13            0   \n",
       "10      (10.0, 11.0]               42           32             4            0   \n",
       "11      (11.0, 12.0]                3            0             3            0   \n",
       "\n",
       "    frequency SE  frequency S  frequency SW  frequency W  frequency NW  \n",
       "0           1913         2192          2202         2313          2421  \n",
       "1           4210         7249          4292         4161          8131  \n",
       "2           2087         6436          2703         3080          5941  \n",
       "3            948         4856          2285         1762          2014  \n",
       "4            202         2079          1809         1146           387  \n",
       "5             54          728           661          680           150  \n",
       "6             10          317           198          151            59  \n",
       "7              6          128           102           34            22  \n",
       "8              0           58            30           12             4  \n",
       "9              0           12            14            4             0  \n",
       "10             0            6             0            0             0  \n",
       "11             0            0             0            0             0  "
      ]
     },
     "execution_count": 24,
     "metadata": {},
     "output_type": "execute_result"
    }
   ],
   "source": [
    "dfplt"
   ]
  },
  {
   "cell_type": "code",
   "execution_count": 11,
   "metadata": {},
   "outputs": [],
   "source": [
    "dc1 = ds.sel(time='2012-08-01')"
   ]
  },
  {
   "cell_type": "code",
   "execution_count": 12,
   "metadata": {},
   "outputs": [
    {
     "data": {
      "text/html": [
       "<pre>&lt;xarray.DataArray &#x27;speed&#x27; (time: 24, latitude: 3, longitude: 3, expver: 2)&gt;\n",
       "dask.array&lt;getitem, shape=(24, 3, 3, 2), dtype=float32, chunksize=(24, 3, 3, 2), chunktype=numpy.ndarray&gt;\n",
       "Coordinates:\n",
       "  * longitude  (longitude) float32 23.42 23.67 23.92\n",
       "  * latitude   (latitude) float32 37.92 37.67 37.42\n",
       "  * expver     (expver) int32 1 5\n",
       "  * time       (time) datetime64[ns] 2012-08-01 ... 2012-08-01T23:00:00</pre>"
      ],
      "text/plain": [
       "<xarray.DataArray 'speed' (time: 24, latitude: 3, longitude: 3, expver: 2)>\n",
       "dask.array<getitem, shape=(24, 3, 3, 2), dtype=float32, chunksize=(24, 3, 3, 2), chunktype=numpy.ndarray>\n",
       "Coordinates:\n",
       "  * longitude  (longitude) float32 23.42 23.67 23.92\n",
       "  * latitude   (latitude) float32 37.92 37.67 37.42\n",
       "  * expver     (expver) int32 1 5\n",
       "  * time       (time) datetime64[ns] 2012-08-01 ... 2012-08-01T23:00:00"
      ]
     },
     "execution_count": 12,
     "metadata": {},
     "output_type": "execute_result"
    }
   ],
   "source": [
    "dc1.speed"
   ]
  },
  {
   "cell_type": "code",
   "execution_count": 13,
   "metadata": {
    "collapsed": true
   },
   "outputs": [
    {
     "ename": "ValueError",
     "evalue": "'step' not found in array dimensions ('time', 'latitude', 'longitude', 'expver')",
     "output_type": "error",
     "traceback": [
      "\u001b[0;31m---------------------------------------------------------------------------\u001b[0m",
      "\u001b[0;31mValueError\u001b[0m                                Traceback (most recent call last)",
      "\u001b[0;32m~/.local/lib/python3.6/site-packages/xarray/core/common.py\u001b[0m in \u001b[0;36m_get_axis_num\u001b[0;34m(self, dim)\u001b[0m\n\u001b[1;32m    172\u001b[0m         \u001b[0;32mtry\u001b[0m\u001b[0;34m:\u001b[0m\u001b[0;34m\u001b[0m\u001b[0;34m\u001b[0m\u001b[0m\n\u001b[0;32m--> 173\u001b[0;31m             \u001b[0;32mreturn\u001b[0m \u001b[0mself\u001b[0m\u001b[0;34m.\u001b[0m\u001b[0mdims\u001b[0m\u001b[0;34m.\u001b[0m\u001b[0mindex\u001b[0m\u001b[0;34m(\u001b[0m\u001b[0mdim\u001b[0m\u001b[0;34m)\u001b[0m\u001b[0;34m\u001b[0m\u001b[0;34m\u001b[0m\u001b[0m\n\u001b[0m\u001b[1;32m    174\u001b[0m         \u001b[0;32mexcept\u001b[0m \u001b[0mValueError\u001b[0m\u001b[0;34m:\u001b[0m\u001b[0;34m\u001b[0m\u001b[0;34m\u001b[0m\u001b[0m\n",
      "\u001b[0;31mValueError\u001b[0m: tuple.index(x): x not in tuple",
      "\nDuring handling of the above exception, another exception occurred:\n",
      "\u001b[0;31mValueError\u001b[0m                                Traceback (most recent call last)",
      "\u001b[0;32m<ipython-input-13-4dcf32099933>\u001b[0m in \u001b[0;36m<module>\u001b[0;34m\u001b[0m\n\u001b[0;32m----> 1\u001b[0;31m \u001b[0mdc1\u001b[0m\u001b[0;34m[\u001b[0m\u001b[0;34m'maxspeed'\u001b[0m\u001b[0;34m]\u001b[0m \u001b[0;34m=\u001b[0m \u001b[0mdc1\u001b[0m\u001b[0;34m[\u001b[0m\u001b[0;34m'speed'\u001b[0m\u001b[0;34m]\u001b[0m\u001b[0;34m.\u001b[0m\u001b[0mmax\u001b[0m\u001b[0;34m(\u001b[0m\u001b[0mdim\u001b[0m\u001b[0;34m=\u001b[0m\u001b[0;34m'step'\u001b[0m\u001b[0;34m,\u001b[0m\u001b[0mskipna\u001b[0m\u001b[0;34m=\u001b[0m\u001b[0;32mTrue\u001b[0m\u001b[0;34m)\u001b[0m\u001b[0;34m\u001b[0m\u001b[0;34m\u001b[0m\u001b[0m\n\u001b[0m",
      "\u001b[0;32m~/.local/lib/python3.6/site-packages/xarray/core/common.py\u001b[0m in \u001b[0;36mwrapped_func\u001b[0;34m(self, dim, axis, skipna, **kwargs)\u001b[0m\n\u001b[1;32m     44\u001b[0m \u001b[0;34m\u001b[0m\u001b[0m\n\u001b[1;32m     45\u001b[0m             \u001b[0;32mdef\u001b[0m \u001b[0mwrapped_func\u001b[0m\u001b[0;34m(\u001b[0m\u001b[0mself\u001b[0m\u001b[0;34m,\u001b[0m \u001b[0mdim\u001b[0m\u001b[0;34m=\u001b[0m\u001b[0;32mNone\u001b[0m\u001b[0;34m,\u001b[0m \u001b[0maxis\u001b[0m\u001b[0;34m=\u001b[0m\u001b[0;32mNone\u001b[0m\u001b[0;34m,\u001b[0m \u001b[0mskipna\u001b[0m\u001b[0;34m=\u001b[0m\u001b[0;32mNone\u001b[0m\u001b[0;34m,\u001b[0m \u001b[0;34m**\u001b[0m\u001b[0mkwargs\u001b[0m\u001b[0;34m)\u001b[0m\u001b[0;34m:\u001b[0m\u001b[0;34m\u001b[0m\u001b[0;34m\u001b[0m\u001b[0m\n\u001b[0;32m---> 46\u001b[0;31m                 \u001b[0;32mreturn\u001b[0m \u001b[0mself\u001b[0m\u001b[0;34m.\u001b[0m\u001b[0mreduce\u001b[0m\u001b[0;34m(\u001b[0m\u001b[0mfunc\u001b[0m\u001b[0;34m,\u001b[0m \u001b[0mdim\u001b[0m\u001b[0;34m,\u001b[0m \u001b[0maxis\u001b[0m\u001b[0;34m,\u001b[0m \u001b[0mskipna\u001b[0m\u001b[0;34m=\u001b[0m\u001b[0mskipna\u001b[0m\u001b[0;34m,\u001b[0m \u001b[0;34m**\u001b[0m\u001b[0mkwargs\u001b[0m\u001b[0;34m)\u001b[0m\u001b[0;34m\u001b[0m\u001b[0;34m\u001b[0m\u001b[0m\n\u001b[0m\u001b[1;32m     47\u001b[0m \u001b[0;34m\u001b[0m\u001b[0m\n\u001b[1;32m     48\u001b[0m         \u001b[0;32melse\u001b[0m\u001b[0;34m:\u001b[0m\u001b[0;34m\u001b[0m\u001b[0;34m\u001b[0m\u001b[0m\n",
      "\u001b[0;32m~/.local/lib/python3.6/site-packages/xarray/core/dataarray.py\u001b[0m in \u001b[0;36mreduce\u001b[0;34m(self, func, dim, axis, keep_attrs, keepdims, **kwargs)\u001b[0m\n\u001b[1;32m   2233\u001b[0m         \"\"\"\n\u001b[1;32m   2234\u001b[0m \u001b[0;34m\u001b[0m\u001b[0m\n\u001b[0;32m-> 2235\u001b[0;31m         \u001b[0mvar\u001b[0m \u001b[0;34m=\u001b[0m \u001b[0mself\u001b[0m\u001b[0;34m.\u001b[0m\u001b[0mvariable\u001b[0m\u001b[0;34m.\u001b[0m\u001b[0mreduce\u001b[0m\u001b[0;34m(\u001b[0m\u001b[0mfunc\u001b[0m\u001b[0;34m,\u001b[0m \u001b[0mdim\u001b[0m\u001b[0;34m,\u001b[0m \u001b[0maxis\u001b[0m\u001b[0;34m,\u001b[0m \u001b[0mkeep_attrs\u001b[0m\u001b[0;34m,\u001b[0m \u001b[0mkeepdims\u001b[0m\u001b[0;34m,\u001b[0m \u001b[0;34m**\u001b[0m\u001b[0mkwargs\u001b[0m\u001b[0;34m)\u001b[0m\u001b[0;34m\u001b[0m\u001b[0;34m\u001b[0m\u001b[0m\n\u001b[0m\u001b[1;32m   2236\u001b[0m         \u001b[0;32mreturn\u001b[0m \u001b[0mself\u001b[0m\u001b[0;34m.\u001b[0m\u001b[0m_replace_maybe_drop_dims\u001b[0m\u001b[0;34m(\u001b[0m\u001b[0mvar\u001b[0m\u001b[0;34m)\u001b[0m\u001b[0;34m\u001b[0m\u001b[0;34m\u001b[0m\u001b[0m\n\u001b[1;32m   2237\u001b[0m \u001b[0;34m\u001b[0m\u001b[0m\n",
      "\u001b[0;32m~/.local/lib/python3.6/site-packages/xarray/core/variable.py\u001b[0m in \u001b[0;36mreduce\u001b[0;34m(self, func, dim, axis, keep_attrs, keepdims, allow_lazy, **kwargs)\u001b[0m\n\u001b[1;32m   1520\u001b[0m \u001b[0;34m\u001b[0m\u001b[0m\n\u001b[1;32m   1521\u001b[0m         \u001b[0;32mif\u001b[0m \u001b[0mdim\u001b[0m \u001b[0;32mis\u001b[0m \u001b[0;32mnot\u001b[0m \u001b[0;32mNone\u001b[0m\u001b[0;34m:\u001b[0m\u001b[0;34m\u001b[0m\u001b[0;34m\u001b[0m\u001b[0m\n\u001b[0;32m-> 1522\u001b[0;31m             \u001b[0maxis\u001b[0m \u001b[0;34m=\u001b[0m \u001b[0mself\u001b[0m\u001b[0;34m.\u001b[0m\u001b[0mget_axis_num\u001b[0m\u001b[0;34m(\u001b[0m\u001b[0mdim\u001b[0m\u001b[0;34m)\u001b[0m\u001b[0;34m\u001b[0m\u001b[0;34m\u001b[0m\u001b[0m\n\u001b[0m\u001b[1;32m   1523\u001b[0m \u001b[0;34m\u001b[0m\u001b[0m\n\u001b[1;32m   1524\u001b[0m         \u001b[0;32mif\u001b[0m \u001b[0mallow_lazy\u001b[0m \u001b[0;32mis\u001b[0m \u001b[0;32mnot\u001b[0m \u001b[0;32mNone\u001b[0m\u001b[0;34m:\u001b[0m\u001b[0;34m\u001b[0m\u001b[0;34m\u001b[0m\u001b[0m\n",
      "\u001b[0;32m~/.local/lib/python3.6/site-packages/xarray/core/common.py\u001b[0m in \u001b[0;36mget_axis_num\u001b[0;34m(self, dim)\u001b[0m\n\u001b[1;32m    167\u001b[0m             \u001b[0;32mreturn\u001b[0m \u001b[0mtuple\u001b[0m\u001b[0;34m(\u001b[0m\u001b[0mself\u001b[0m\u001b[0;34m.\u001b[0m\u001b[0m_get_axis_num\u001b[0m\u001b[0;34m(\u001b[0m\u001b[0md\u001b[0m\u001b[0;34m)\u001b[0m \u001b[0;32mfor\u001b[0m \u001b[0md\u001b[0m \u001b[0;32min\u001b[0m \u001b[0mdim\u001b[0m\u001b[0;34m)\u001b[0m\u001b[0;34m\u001b[0m\u001b[0;34m\u001b[0m\u001b[0m\n\u001b[1;32m    168\u001b[0m         \u001b[0;32melse\u001b[0m\u001b[0;34m:\u001b[0m\u001b[0;34m\u001b[0m\u001b[0;34m\u001b[0m\u001b[0m\n\u001b[0;32m--> 169\u001b[0;31m             \u001b[0;32mreturn\u001b[0m \u001b[0mself\u001b[0m\u001b[0;34m.\u001b[0m\u001b[0m_get_axis_num\u001b[0m\u001b[0;34m(\u001b[0m\u001b[0mdim\u001b[0m\u001b[0;34m)\u001b[0m\u001b[0;34m\u001b[0m\u001b[0;34m\u001b[0m\u001b[0m\n\u001b[0m\u001b[1;32m    170\u001b[0m \u001b[0;34m\u001b[0m\u001b[0m\n\u001b[1;32m    171\u001b[0m     \u001b[0;32mdef\u001b[0m \u001b[0m_get_axis_num\u001b[0m\u001b[0;34m(\u001b[0m\u001b[0mself\u001b[0m\u001b[0;34m:\u001b[0m \u001b[0mAny\u001b[0m\u001b[0;34m,\u001b[0m \u001b[0mdim\u001b[0m\u001b[0;34m:\u001b[0m \u001b[0mHashable\u001b[0m\u001b[0;34m)\u001b[0m \u001b[0;34m->\u001b[0m \u001b[0mint\u001b[0m\u001b[0;34m:\u001b[0m\u001b[0;34m\u001b[0m\u001b[0;34m\u001b[0m\u001b[0m\n",
      "\u001b[0;32m~/.local/lib/python3.6/site-packages/xarray/core/common.py\u001b[0m in \u001b[0;36m_get_axis_num\u001b[0;34m(self, dim)\u001b[0m\n\u001b[1;32m    173\u001b[0m             \u001b[0;32mreturn\u001b[0m \u001b[0mself\u001b[0m\u001b[0;34m.\u001b[0m\u001b[0mdims\u001b[0m\u001b[0;34m.\u001b[0m\u001b[0mindex\u001b[0m\u001b[0;34m(\u001b[0m\u001b[0mdim\u001b[0m\u001b[0;34m)\u001b[0m\u001b[0;34m\u001b[0m\u001b[0;34m\u001b[0m\u001b[0m\n\u001b[1;32m    174\u001b[0m         \u001b[0;32mexcept\u001b[0m \u001b[0mValueError\u001b[0m\u001b[0;34m:\u001b[0m\u001b[0;34m\u001b[0m\u001b[0;34m\u001b[0m\u001b[0m\n\u001b[0;32m--> 175\u001b[0;31m             \u001b[0;32mraise\u001b[0m \u001b[0mValueError\u001b[0m\u001b[0;34m(\u001b[0m\u001b[0;34mf\"{dim!r} not found in array dimensions {self.dims!r}\"\u001b[0m\u001b[0;34m)\u001b[0m\u001b[0;34m\u001b[0m\u001b[0;34m\u001b[0m\u001b[0m\n\u001b[0m\u001b[1;32m    176\u001b[0m \u001b[0;34m\u001b[0m\u001b[0m\n\u001b[1;32m    177\u001b[0m     \u001b[0;34m@\u001b[0m\u001b[0mproperty\u001b[0m\u001b[0;34m\u001b[0m\u001b[0;34m\u001b[0m\u001b[0m\n",
      "\u001b[0;31mValueError\u001b[0m: 'step' not found in array dimensions ('time', 'latitude', 'longitude', 'expver')"
     ]
    }
   ],
   "source": [
    "dc1['maxspeed'] = dc1['speed'].max(dim='step',skipna=True)"
   ]
  },
  {
   "cell_type": "code",
   "execution_count": 14,
   "metadata": {},
   "outputs": [
    {
     "data": {
      "text/html": [
       "<pre>&lt;xarray.Dataset&gt;\n",
       "Dimensions:       (expver: 2, latitude: 3, longitude: 3, time: 24)\n",
       "Coordinates:\n",
       "  * longitude     (longitude) float32 23.42 23.67 23.92\n",
       "  * latitude      (latitude) float32 37.92 37.67 37.42\n",
       "  * expver        (expver) int32 1 5\n",
       "  * time          (time) datetime64[ns] 2012-08-01 ... 2012-08-01T23:00:00\n",
       "Data variables:\n",
       "    u10           (time, latitude, longitude, expver) float32 dask.array&lt;chunksize=(24, 3, 3, 2), meta=np.ndarray&gt;\n",
       "    v10           (time, latitude, longitude, expver) float32 dask.array&lt;chunksize=(24, 3, 3, 2), meta=np.ndarray&gt;\n",
       "    fg10          (time, latitude, longitude, expver) float32 dask.array&lt;chunksize=(24, 3, 3, 2), meta=np.ndarray&gt;\n",
       "    i10fg         (time, latitude, longitude, expver) float32 dask.array&lt;chunksize=(24, 3, 3, 2), meta=np.ndarray&gt;\n",
       "    speed         (time, latitude, longitude, expver) float32 dask.array&lt;chunksize=(24, 3, 3, 2), meta=np.ndarray&gt;\n",
       "    wind_dir      (time, latitude, longitude, expver) float32 dask.array&lt;chunksize=(24, 3, 3, 2), meta=np.ndarray&gt;\n",
       "    wind_dir_cat  (time, latitude, longitude, expver) float32 1.0 1.0 ... 1.0\n",
       "Attributes:\n",
       "    Conventions:  CF-1.6\n",
       "    history:      2021-08-30 16:25:45 GMT by grib_to_netcdf-2.20.0: /opt/ecmw...</pre>"
      ],
      "text/plain": [
       "<xarray.Dataset>\n",
       "Dimensions:       (expver: 2, latitude: 3, longitude: 3, time: 24)\n",
       "Coordinates:\n",
       "  * longitude     (longitude) float32 23.42 23.67 23.92\n",
       "  * latitude      (latitude) float32 37.92 37.67 37.42\n",
       "  * expver        (expver) int32 1 5\n",
       "  * time          (time) datetime64[ns] 2012-08-01 ... 2012-08-01T23:00:00\n",
       "Data variables:\n",
       "    u10           (time, latitude, longitude, expver) float32 dask.array<chunksize=(24, 3, 3, 2), meta=np.ndarray>\n",
       "    v10           (time, latitude, longitude, expver) float32 dask.array<chunksize=(24, 3, 3, 2), meta=np.ndarray>\n",
       "    fg10          (time, latitude, longitude, expver) float32 dask.array<chunksize=(24, 3, 3, 2), meta=np.ndarray>\n",
       "    i10fg         (time, latitude, longitude, expver) float32 dask.array<chunksize=(24, 3, 3, 2), meta=np.ndarray>\n",
       "    speed         (time, latitude, longitude, expver) float32 dask.array<chunksize=(24, 3, 3, 2), meta=np.ndarray>\n",
       "    wind_dir      (time, latitude, longitude, expver) float32 dask.array<chunksize=(24, 3, 3, 2), meta=np.ndarray>\n",
       "    wind_dir_cat  (time, latitude, longitude, expver) float32 1.0 1.0 ... 1.0\n",
       "Attributes:\n",
       "    Conventions:  CF-1.6\n",
       "    history:      2021-08-30 16:25:45 GMT by grib_to_netcdf-2.20.0: /opt/ecmw..."
      ]
     },
     "execution_count": 14,
     "metadata": {},
     "output_type": "execute_result"
    }
   ],
   "source": [
    "dc1"
   ]
  },
  {
   "cell_type": "code",
   "execution_count": null,
   "metadata": {},
   "outputs": [],
   "source": []
  },
  {
   "cell_type": "code",
   "execution_count": null,
   "metadata": {},
   "outputs": [],
   "source": []
  }
 ],
 "metadata": {
  "kernelspec": {
   "display_name": "Python 3",
   "language": "python",
   "name": "python3"
  },
  "language_info": {
   "codemirror_mode": {
    "name": "ipython",
    "version": 3
   },
   "file_extension": ".py",
   "mimetype": "text/x-python",
   "name": "python",
   "nbconvert_exporter": "python",
   "pygments_lexer": "ipython3",
   "version": "3.6.9"
  }
 },
 "nbformat": 4,
 "nbformat_minor": 4
}
