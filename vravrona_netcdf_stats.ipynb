{
 "cells": [
  {
   "cell_type": "code",
   "execution_count": 2,
   "metadata": {},
   "outputs": [],
   "source": [
    "import math\n",
    "import numpy as np\n",
    "from datetime import datetime, timedelta, date\n",
    "import time\n",
    "import xarray as xr\n",
    "from matplotlib import pyplot as plt\n",
    "import pandas as pd\n",
    "import numpy as np"
   ]
  },
  {
   "cell_type": "code",
   "execution_count": 3,
   "metadata": {},
   "outputs": [],
   "source": [
    "def speedstats(dsspeed, percent=False):\n",
    "    bins=list(range(0,int(dsspeed[\"speed\"].max())+2))\n",
    "    sg = dsspeed.groupby_bins(\"speed\",bins)\n",
    "    speedcounts = sg.count(...)[\"speed\"]\n",
    "    speedlabelsdict={}\n",
    "    for k in sg.groups:\n",
    "        speedlabelsdict[k.left]=k\n",
    "    speedlabels=[]    \n",
    "    for k in sorted(speedlabelsdict):\n",
    "        speedlabels.append(\"%s\"%speedlabelsdict[k])\n",
    "    if percent:\n",
    "        alldscount = dsspeed[\"speed\"].count().item(0)\n",
    "        speedcounts = speedcounts/alldscount\n",
    "    return speedlabels, speedcounts"
   ]
  },
  {
   "cell_type": "code",
   "execution_count": 21,
   "metadata": {},
   "outputs": [],
   "source": [
    "def directionstats(dsdir, percent=False):\n",
    "    dirlabels = [\"N\",\"NE\", \"E\", \"SE\", \"S\", \"SW\", \"W\", \"NW\"]\n",
    "    dirgroup = dsdir.groupby(\"wind_dir_cat\")\n",
    "    dircounts = dirgroup.count(...)[\"wind_dir\"]\n",
    "    if percent:\n",
    "        alldscount = dsdir[\"speed\"].count().item(0)\n",
    "        dircounts = dircounts/alldscount\n",
    "    return dirlabels, dircounts"
   ]
  },
  {
   "cell_type": "code",
   "execution_count": 6,
   "metadata": {},
   "outputs": [],
   "source": [
    "ds = xr.load_dataset(\"/home/sg/Downloads/p1_17_21.nc\")"
   ]
  },
  {
   "cell_type": "code",
   "execution_count": 7,
   "metadata": {},
   "outputs": [],
   "source": [
    "ds['speed'] = np.sqrt(ds.u10**2+ds.v10**2)"
   ]
  },
  {
   "cell_type": "code",
   "execution_count": 10,
   "metadata": {},
   "outputs": [],
   "source": [
    "ds['wind_dir'] = 180 + (180 / math.pi) * np.arctan2(ds.u10, ds.v10)"
   ]
  },
  {
   "cell_type": "code",
   "execution_count": 15,
   "metadata": {},
   "outputs": [],
   "source": [
    "def wind_direction_disc(azim):\n",
    "    wind_dir = np.ma.copy(azim)\n",
    "    # wind_dir\n",
    "    # wind_dir.shape, azim[1].size\n",
    "    # wind_dir\n",
    "    directiondict = {1: (337.5, 22.5), # N\n",
    "                     2: (22.5, 67.5), # NE\n",
    "                     3: (67.5, 112.5), # E\n",
    "                     4: (112.5, 157.5), # SE\n",
    "                     5: (157.5, 202.5), # S\n",
    "                     6: (202.5, 247.5), # SW\n",
    "                     7: (247.5, 292.5), # W\n",
    "                     8: (292.5, 337.5)}  # NW\n",
    "    for i in directiondict:\n",
    "        if directiondict[i][0] > directiondict[i][1]:\n",
    "            wind_dir[(~wind_dir.mask) & ((wind_dir > directiondict[i][0]) | (wind_dir <= directiondict[i][1]))] = i\n",
    "        else:\n",
    "            wind_dir[(~wind_dir.mask) & (wind_dir > directiondict[i][0]) & (wind_dir <= directiondict[i][1])] = i\n",
    "    return wind_dir"
   ]
  },
  {
   "cell_type": "code",
   "execution_count": 16,
   "metadata": {
    "collapsed": true
   },
   "outputs": [
    {
     "name": "stderr",
     "output_type": "stream",
     "text": [
      "/home/sg/.local/lib/python3.6/site-packages/ipykernel_launcher.py:16: RuntimeWarning: invalid value encountered in greater\n",
      "  app.launch_new_instance()\n",
      "/home/sg/.local/lib/python3.6/site-packages/ipykernel_launcher.py:16: RuntimeWarning: invalid value encountered in less_equal\n",
      "  app.launch_new_instance()\n",
      "/home/sg/.local/lib/python3.6/site-packages/ipykernel_launcher.py:18: RuntimeWarning: invalid value encountered in greater\n",
      "/home/sg/.local/lib/python3.6/site-packages/ipykernel_launcher.py:18: RuntimeWarning: invalid value encountered in less_equal\n"
     ]
    }
   ],
   "source": [
    "ds['wind_dir_cat'] = xr.apply_ufunc(wind_direction_disc, ds['wind_dir'])"
   ]
  },
  {
   "cell_type": "code",
   "execution_count": 18,
   "metadata": {
    "collapsed": true
   },
   "outputs": [
    {
     "data": {
      "text/html": [
       "<pre>&lt;xarray.Dataset&gt;\n",
       "Dimensions:       (expver: 2, latitude: 1, longitude: 1, time: 23983)\n",
       "Coordinates:\n",
       "  * longitude     (longitude) float32 23.92\n",
       "  * latitude      (latitude) float32 37.92\n",
       "  * expver        (expver) int32 1 5\n",
       "  * time          (time) datetime64[ns] 2017-04-01 ... 2021-08-22T06:00:00\n",
       "Data variables:\n",
       "    u10           (time, expver, latitude, longitude) float32 0.94747806 ... nan\n",
       "    v10           (time, expver, latitude, longitude) float32 -4.8378425 ... nan\n",
       "    fg10          (time, expver, latitude, longitude) float32 12.375712 ... 11.684931\n",
       "    i10fg         (time, expver, latitude, longitude) float32 12.060875 ... 12.193236\n",
       "    speed         (time, expver, latitude, longitude) float32 4.92975 ... nan\n",
       "    wind_dir      (time, expver, latitude, longitude) float32 348.91904 ... nan\n",
       "    wind_dir_cat  (time, expver, latitude, longitude) float32 1.0 nan ... nan\n",
       "Attributes:\n",
       "    Conventions:  CF-1.6\n",
       "    history:      2021-08-26 12:42:54 GMT by grib_to_netcdf-2.20.0: /opt/ecmw...</pre>"
      ],
      "text/plain": [
       "<xarray.Dataset>\n",
       "Dimensions:       (expver: 2, latitude: 1, longitude: 1, time: 23983)\n",
       "Coordinates:\n",
       "  * longitude     (longitude) float32 23.92\n",
       "  * latitude      (latitude) float32 37.92\n",
       "  * expver        (expver) int32 1 5\n",
       "  * time          (time) datetime64[ns] 2017-04-01 ... 2021-08-22T06:00:00\n",
       "Data variables:\n",
       "    u10           (time, expver, latitude, longitude) float32 0.94747806 ... nan\n",
       "    v10           (time, expver, latitude, longitude) float32 -4.8378425 ... nan\n",
       "    fg10          (time, expver, latitude, longitude) float32 12.375712 ... 11.684931\n",
       "    i10fg         (time, expver, latitude, longitude) float32 12.060875 ... 12.193236\n",
       "    speed         (time, expver, latitude, longitude) float32 4.92975 ... nan\n",
       "    wind_dir      (time, expver, latitude, longitude) float32 348.91904 ... nan\n",
       "    wind_dir_cat  (time, expver, latitude, longitude) float32 1.0 nan ... nan\n",
       "Attributes:\n",
       "    Conventions:  CF-1.6\n",
       "    history:      2021-08-26 12:42:54 GMT by grib_to_netcdf-2.20.0: /opt/ecmw..."
      ]
     },
     "execution_count": 18,
     "metadata": {},
     "output_type": "execute_result"
    }
   ],
   "source": [
    "dscell = ds.sel(latitude=slice(37.95,37.85), longitude=slice(23.85, 23.95))\n",
    "dscell"
   ]
  },
  {
   "cell_type": "code",
   "execution_count": 19,
   "metadata": {
    "scrolled": true
   },
   "outputs": [
    {
     "data": {
      "text/plain": [
       "<BarContainer object of 12 artists>"
      ]
     },
     "execution_count": 19,
     "metadata": {},
     "output_type": "execute_result"
    },
    {
     "data": {
      "image/png": "[encoded data removed]",
      "text/plain": [
       "<Figure size 432x288 with 1 Axes>"
      ]
     },
     "metadata": {
      "needs_background": "light"
     },
     "output_type": "display_data"
    }
   ],
   "source": [
    "lab, speeds = speedstats(dscell)\n",
    "plt.xticks(rotation=90)\n",
    "plt.bar(lab,speeds)"
   ]
  },
  {
   "cell_type": "code",
   "execution_count": 22,
   "metadata": {},
   "outputs": [
    {
     "data": {
      "text/plain": [
       "<BarContainer object of 8 artists>"
      ]
     },
     "execution_count": 22,
     "metadata": {},
     "output_type": "execute_result"
    },
    {
     "data": {
      "image/png": "[encoded data removed]",
      "text/plain": [
       "<Figure size 432x288 with 1 Axes>"
      ]
     },
     "metadata": {
      "needs_background": "light"
     },
     "output_type": "display_data"
    }
   ],
   "source": [
    "directions,dircounts = directionstats(dscell, percent=True)\n",
    "plt.bar(directions,dircounts)"
   ]
  },
  {
   "cell_type": "code",
   "execution_count": 359,
   "metadata": {},
   "outputs": [],
   "source": [
    "start=\"2010-01-01\"\n",
    "end=\"2020-12-31\"\n",
    "dstimerange=dscell.sel(time=slice(start, end))"
   ]
  },
  {
   "cell_type": "code",
   "execution_count": 371,
   "metadata": {
    "collapsed": true
   },
   "outputs": [
    {
     "data": {
      "text/plain": [
       "<matplotlib.axes._subplots.AxesSubplot at 0x7fca6116d2e8>"
      ]
     },
     "execution_count": 371,
     "metadata": {},
     "output_type": "execute_result"
    },
    {
     "data": {
      "image/png": "[encoded data removed]",
      "text/plain": [
       "<Figure size 864x576 with 1 Axes>"
      ]
     },
     "metadata": {
      "needs_background": "light"
     },
     "output_type": "display_data"
    }
   ],
   "source": [
    "lab1, speeds1 = speedstats(dscell, percent=True)\n",
    "lab2, speeds2 = speedstats(dstimerange, percent=True)\n",
    "speeds2 = np.append(speeds2, np.zeros(len(speeds1)-len(speeds2), dtype=np.int8))\n",
    "dfplt=pd.DataFrame({\"speed range (m/s)\":lab1, \"frequency % (1990-2020)\":speeds1, \"frequency %% %s:%s\"%(start,end):speeds2})\n",
    "dfplt.plot.bar(x='speed range (m/s)',  figsize=(12,8), logy=False)"
   ]
  },
  {
   "cell_type": "code",
   "execution_count": 364,
   "metadata": {},
   "outputs": [
    {
     "data": {
      "text/plain": [
       "<matplotlib.axes._subplots.AxesSubplot at 0x7fca61287b38>"
      ]
     },
     "execution_count": 364,
     "metadata": {},
     "output_type": "execute_result"
    },
    {
     "data": {
      "image/png": "[encoded data removed]",
      "text/plain": [
       "<Figure size 864x576 with 1 Axes>"
      ]
     },
     "metadata": {
      "needs_background": "light"
     },
     "output_type": "display_data"
    }
   ],
   "source": [
    "lab1, dirs1 = directionstats(dscell, percent=True)\n",
    "lab2, dirs2 = directionstats(dstimerange, percent=True)\n",
    "dfplt=pd.DataFrame({\"Wind Directions\":lab1, \"frequency % (1990-2020)\":dirs1, \"frequency %% %s:%s\"%(start,end):dirs2, })\n",
    "dfplt.plot.bar(x=\"Wind Directions\", figsize=(12,8))"
   ]
  },
  {
   "cell_type": "code",
   "execution_count": 380,
   "metadata": {
    "collapsed": true
   },
   "outputs": [
    {
     "ename": "TypeError",
     "evalue": "unhashable type: 'numpy.ndarray'",
     "output_type": "error",
     "traceback": [
      "\u001b[0;31m---------------------------------------------------------------------------\u001b[0m",
      "\u001b[0;31mTypeError\u001b[0m                                 Traceback (most recent call last)",
      "\u001b[0;32m<ipython-input-380-0506480ea239>\u001b[0m in \u001b[0;36m<module>\u001b[0;34m\u001b[0m\n\u001b[0;32m----> 1\u001b[0;31m \u001b[0mdscell\u001b[0m\u001b[0;34m[\u001b[0m\u001b[0mdscell\u001b[0m\u001b[0;34m.\u001b[0m\u001b[0mdirection\u001b[0m\u001b[0;34m==\u001b[0m\u001b[0;36m1\u001b[0m\u001b[0;34m]\u001b[0m\u001b[0;34m\u001b[0m\u001b[0;34m\u001b[0m\u001b[0m\n\u001b[0m",
      "\u001b[0;32m~/miniconda3/envs/ffp/lib/python3.6/site-packages/xarray/core/dataset.py\u001b[0m in \u001b[0;36m__getitem__\u001b[0;34m(self, key)\u001b[0m\n\u001b[1;32m   1272\u001b[0m             \u001b[0;32mreturn\u001b[0m \u001b[0mself\u001b[0m\u001b[0;34m.\u001b[0m\u001b[0m_construct_dataarray\u001b[0m\u001b[0;34m(\u001b[0m\u001b[0mkey\u001b[0m\u001b[0;34m)\u001b[0m\u001b[0;34m\u001b[0m\u001b[0;34m\u001b[0m\u001b[0m\n\u001b[1;32m   1273\u001b[0m         \u001b[0;32melse\u001b[0m\u001b[0;34m:\u001b[0m\u001b[0;34m\u001b[0m\u001b[0;34m\u001b[0m\u001b[0m\n\u001b[0;32m-> 1274\u001b[0;31m             \u001b[0;32mreturn\u001b[0m \u001b[0mself\u001b[0m\u001b[0;34m.\u001b[0m\u001b[0m_copy_listed\u001b[0m\u001b[0;34m(\u001b[0m\u001b[0mnp\u001b[0m\u001b[0;34m.\u001b[0m\u001b[0masarray\u001b[0m\u001b[0;34m(\u001b[0m\u001b[0mkey\u001b[0m\u001b[0;34m)\u001b[0m\u001b[0;34m)\u001b[0m\u001b[0;34m\u001b[0m\u001b[0;34m\u001b[0m\u001b[0m\n\u001b[0m\u001b[1;32m   1275\u001b[0m \u001b[0;34m\u001b[0m\u001b[0m\n\u001b[1;32m   1276\u001b[0m     \u001b[0;32mdef\u001b[0m \u001b[0m__setitem__\u001b[0m\u001b[0;34m(\u001b[0m\u001b[0mself\u001b[0m\u001b[0;34m,\u001b[0m \u001b[0mkey\u001b[0m\u001b[0;34m:\u001b[0m \u001b[0mHashable\u001b[0m\u001b[0;34m,\u001b[0m \u001b[0mvalue\u001b[0m\u001b[0;34m)\u001b[0m \u001b[0;34m->\u001b[0m \u001b[0;32mNone\u001b[0m\u001b[0;34m:\u001b[0m\u001b[0;34m\u001b[0m\u001b[0;34m\u001b[0m\u001b[0m\n",
      "\u001b[0;32m~/miniconda3/envs/ffp/lib/python3.6/site-packages/xarray/core/dataset.py\u001b[0m in \u001b[0;36m_copy_listed\u001b[0;34m(self, names)\u001b[0m\n\u001b[1;32m   1135\u001b[0m         \u001b[0;32mfor\u001b[0m \u001b[0mname\u001b[0m \u001b[0;32min\u001b[0m \u001b[0mnames\u001b[0m\u001b[0;34m:\u001b[0m\u001b[0;34m\u001b[0m\u001b[0;34m\u001b[0m\u001b[0m\n\u001b[1;32m   1136\u001b[0m             \u001b[0;32mtry\u001b[0m\u001b[0;34m:\u001b[0m\u001b[0;34m\u001b[0m\u001b[0;34m\u001b[0m\u001b[0m\n\u001b[0;32m-> 1137\u001b[0;31m                 \u001b[0mvariables\u001b[0m\u001b[0;34m[\u001b[0m\u001b[0mname\u001b[0m\u001b[0;34m]\u001b[0m \u001b[0;34m=\u001b[0m \u001b[0mself\u001b[0m\u001b[0;34m.\u001b[0m\u001b[0m_variables\u001b[0m\u001b[0;34m[\u001b[0m\u001b[0mname\u001b[0m\u001b[0;34m]\u001b[0m\u001b[0;34m\u001b[0m\u001b[0;34m\u001b[0m\u001b[0m\n\u001b[0m\u001b[1;32m   1138\u001b[0m             \u001b[0;32mexcept\u001b[0m \u001b[0mKeyError\u001b[0m\u001b[0;34m:\u001b[0m\u001b[0;34m\u001b[0m\u001b[0;34m\u001b[0m\u001b[0m\n\u001b[1;32m   1139\u001b[0m                 ref_name, var_name, var = _get_virtual_variable(\n",
      "\u001b[0;31mTypeError\u001b[0m: unhashable type: 'numpy.ndarray'"
     ]
    }
   ],
   "source": [
    "dscell[dscell.direction==1]"
   ]
  }
 ],
 "metadata": {
  "kernelspec": {
   "display_name": "Python 3",
   "language": "python",
   "name": "python3"
  },
  "language_info": {
   "codemirror_mode": {
    "name": "ipython",
    "version": 3
   },
   "file_extension": ".py",
   "mimetype": "text/x-python",
   "name": "python",
   "nbconvert_exporter": "python",
   "pygments_lexer": "ipython3",
   "version": "3.6.9"
  }
 },
 "nbformat": 4,
 "nbformat_minor": 4
}
